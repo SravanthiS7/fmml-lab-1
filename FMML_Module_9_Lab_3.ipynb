{
  "nbformat": 4,
  "nbformat_minor": 0,
  "metadata": {
    "colab": {
      "provenance": [],
      "include_colab_link": true
    },
    "kernelspec": {
      "name": "python3",
      "display_name": "Python 3"
    },
    "language_info": {
      "name": "python"
    }
  },
  "cells": [
    {
      "cell_type": "markdown",
      "metadata": {
        "id": "view-in-github",
        "colab_type": "text"
      },
      "source": [
        "<a href=\"https://colab.research.google.com/github/SravanthiS7/fmml-lab-1/blob/main/FMML_Module_9_Lab_3.ipynb\" target=\"_parent\"><img src=\"https://colab.research.google.com/assets/colab-badge.svg\" alt=\"Open In Colab\"/></a>"
      ]
    },
    {
      "cell_type": "markdown",
      "source": [
        "# Module 9: Convolutional Neural Networks\n",
        "## **Lab 3**\n",
        "### Module coordinator: Kushagra Agarwal"
      ],
      "metadata": {
        "id": "kCpbL40ggQf1"
      }
    },
    {
      "cell_type": "markdown",
      "source": [
        "## 1. Understanding Convolutions"
      ],
      "metadata": {
        "id": "0hAW8ptqVeyP"
      }
    },
    {
      "cell_type": "markdown",
      "source": [
        "<img src=\"https://miro.medium.com/max/464/0*e-SMFTzO8r7skkpc\" width=650px/>"
      ],
      "metadata": {
        "id": "q6wfvhccKxWx"
      }
    },
    {
      "cell_type": "code",
      "execution_count": null,
      "metadata": {
        "id": "yZD5S7IQgHbU"
      },
      "outputs": [],
      "source": [
        "import cv2\n",
        "import numpy as np\n",
        "import matplotlib.pyplot as plt"
      ]
    },
    {
      "cell_type": "code",
      "source": [
        "# Importing some pytorch packages\n",
        "import torch\n",
        "from torch.nn import Conv2d"
      ],
      "metadata": {
        "id": "BDE4WBHalreb"
      },
      "execution_count": null,
      "outputs": []
    },
    {
      "cell_type": "markdown",
      "source": [
        "Central to CNNs, a convolution operation is a linear element-wise multiplication operation between a small filter/kernel and same-sized patch from the image. We move this filter over the image like a sliding window from top left to bottom right. For each point on the image, a value is calculated based on the filter using a convolution operation. These filters can do simplest task like checking if there is a vertical line in the image or complicated task like detecting a human eye in the image.\n",
        "\n",
        "Let's look at the convolution formula:\n",
        "\n",
        "Convolution between image\n",
        "$f(x, y)$ and kernel $k(x, y)$ is\n",
        "$$f(x,y) * k(x,y) = \\sum \\limits _{i=0} ^{W-1} \\sum \\limits _{j=0} ^{H-1} f(i, j) k(x − i, y − j)$$\n",
        "\n",
        "where $W$ and $H$ are the the width and height of the image.\n",
        "\n",
        "The code demonstrates the convolution operation of a 2D matrix (image) with various filters"
      ],
      "metadata": {
        "id": "hbpRXyTpVv7u"
      }
    },
    {
      "cell_type": "markdown",
      "source": [
        "<img src=\"https://www.researchgate.net/profile/Chaim-Baskin/publication/318849314/figure/fig1/AS:614287726870532@1523469015098/Image-convolution-with-an-input-image-of-size-7-7-and-a-filter-kernel-of-size-3-3.png\" alt=\"Convolution\" width=650px height=280px/>"
      ],
      "metadata": {
        "id": "amI6DTS0Ksvo"
      }
    },
    {
      "cell_type": "code",
      "source": [
        "# 2D 3x3 binary image with vertical edge\n",
        "image1 = np.array([[1,1,0], [1,1,0], [1,1,0]])\n",
        "\n",
        "# 2D 3x3 binary image with horizontal edge\n",
        "image2 = np.array([[0,0,0], [0,0,0], [1,1,1]])\n",
        "\n",
        "# On plotting the images\n",
        "plt.imshow(image1, cmap='gray', extent=[0, 3, 3, 0])\n",
        "plt.show()\n",
        "plt.imshow(image2, cmap='gray', extent=[0, 3, 3, 0])\n",
        "plt.show()"
      ],
      "metadata": {
        "colab": {
          "base_uri": "https://localhost:8080/",
          "height": 853
        },
        "id": "IalqupPPkDil",
        "outputId": "34ea3ed4-4af7-479d-bcd7-825223cdca3c"
      },
      "execution_count": null,
      "outputs": [
        {
          "output_type": "display_data",
          "data": {
            "text/plain": [
              "<Figure size 640x480 with 1 Axes>"
            ],
            "image/png": "[encoded data removed]"
          },
          "metadata": {}
        },
        {
          "output_type": "display_data",
          "data": {
            "text/plain": [
              "<Figure size 640x480 with 1 Axes>"
            ],
            "image/png": "[encoded data removed]"
          },
          "metadata": {}
        }
      ]
    },
    {
      "cell_type": "code",
      "source": [
        "# Vertical Line filter\n",
        "filter = np.array([[1,0,-1],\n",
        "                   [1,0,-1],\n",
        "                   [1,0,-1]])\n",
        "\n",
        "# Applying filter to first image\n",
        "output = np.sum(np.multiply(image1, filter))\n",
        "print('Output from first image: ', output)\n",
        "\n",
        "# Applying filter to second image\n",
        "output = np.sum(np.multiply(image2, filter))\n",
        "print('Output from second image: ', output)"
      ],
      "metadata": {
        "colab": {
          "base_uri": "https://localhost:8080/"
        },
        "id": "g42INjCaketK",
        "outputId": "51d28edc-0648-4f5b-ccd1-a9ea94abe68c"
      },
      "execution_count": null,
      "outputs": [
        {
          "output_type": "stream",
          "name": "stdout",
          "text": [
            "Output from first image:  3\n",
            "Output from second image:  0\n"
          ]
        }
      ]
    },
    {
      "cell_type": "code",
      "source": [
        "# Horizontal edge filter\n",
        "filter = np.array([[-1,-1,-1],\n",
        "                   [ 0, 0, 0],\n",
        "                   [ 1, 1, 1]])\n",
        "\n",
        "output = np.sum(np.multiply(image1, filter))\n",
        "print('Output from first image: ', output)\n",
        "\n",
        "output = np.sum(np.multiply(image2, filter))\n",
        "print('Output from second image: ', output)"
      ],
      "metadata": {
        "colab": {
          "base_uri": "https://localhost:8080/"
        },
        "id": "Tba3ySYUk2df",
        "outputId": "f5185bdc-dfc2-4aef-948d-24476af0cdb1"
      },
      "execution_count": null,
      "outputs": [
        {
          "output_type": "stream",
          "name": "stdout",
          "text": [
            "Output from first image:  0\n",
            "Output from second image:  3\n"
          ]
        }
      ]
    },
    {
      "cell_type": "markdown",
      "source": [
        "Non-zero output suggests that there is a vertical edge present in the first image and not present in the second image. Similarly, horizontal edge is detected in second."
      ],
      "metadata": {
        "id": "BmYcPhDgk_in"
      }
    },
    {
      "cell_type": "markdown",
      "source": [
        "Let's define a function to use convolution layer from Pytorch and use our own kernel to detect edges in image"
      ],
      "metadata": {
        "id": "UNdrDtAKqyj2"
      }
    },
    {
      "cell_type": "code",
      "source": [
        "def apply_conv(image, kernel, padding=0, stride=1):\n",
        "\n",
        "  #--------IMAGE PREPROCESSING-------\n",
        "  image = torch.from_numpy(image)\n",
        "  # Pytorch requires input to convolution in (N,C,H,W), where N = batch size and C=#channels in input\n",
        "  input = image.view((1,1,image.shape[0], image.shape[1]))\n",
        "\n",
        "  # --------------KERNEL-------------\n",
        "  kernel = torch.from_numpy(kernel.astype(np.float32))\n",
        "\n",
        "  # Pytorch requires kernel of shape (N,C,H,W), where N = batch size and C=#channels in input\n",
        "  kernel = kernel.view((1,1,kernel.shape[0], kernel.shape[1]))\n",
        "\n",
        "  # ---------CONVOLUTION LAYER from Pytorch--------\n",
        "  conv = Conv2d(in_channels=1, out_channels=1, kernel_size=kernel.shape, padding=padding, stride=stride)\n",
        "\n",
        "  # Set the kernel weights in the convolution layer\n",
        "  conv.weight = torch.nn.Parameter(kernel)\n",
        "\n",
        "  # ---------APPLY CONVOLUTION--------\n",
        "  output = conv(input.float())\n",
        "  output_img = output.data.numpy()  # Tensor to back in numpy\n",
        "  output_img = output_img.reshape((-1, output_img.shape[-1])) # Reshape to 2D image\n",
        "\n",
        "  return output_img"
      ],
      "metadata": {
        "id": "G5fRJziBk3YB"
      },
      "execution_count": null,
      "outputs": []
    },
    {
      "cell_type": "code",
      "source": [
        "import cv2\n",
        "import numpy as np\n",
        "import torch\n",
        "\n",
        "def apply_conv(image, kernel, padding=0, stride=1):\n",
        "    if image is None:\n",
        "        raise ValueError(\"Failed to read the image file\")\n",
        "\n",
        "    # --------IMAGE PREPROCESSING-------\n",
        "    image = torch.from_numpy(image)\n",
        "    # Pytorch requires input to convolution in (N,C,H,W), where N = batch size and C=#channels in input\n",
        "    input = image.view((1,1,image.shape[0], image.shape[1]))\n",
        "\n",
        "    # Convolution operation using Pytorch\n",
        "    conv = torch.nn.Conv2d(1,1, kernel_size=3, stride=stride, padding=padding, bias=False)\n",
        "    conv.weight.data = torch.from_numpy(kernel).float().view(1,1,3,3)\n",
        "    out = conv(input)\n",
        "\n",
        "    # Return the result as a NumPy array\n",
        "    return out[0,0,:,:].numpy()\n",
        "\n",
        "try:\n",
        "    # Load the image\n",
        "    image = cv2.imread('/content/grid1 (1).jpg', 0)\n",
        "\n",
        "    # Define the filters\n",
        "    filter1 = np.array([[-1,-1,-1],\n",
        "                        [ 0, 0, 0],\n",
        "                        [ 1, 1, 1]])\n",
        "\n",
        "    filter2 = np.array([[1,0,-1],\n",
        "                        [1,0,-1],\n",
        "                        [1,0,-1]])\n",
        "\n",
        "    # Apply the convolution with different filters\n",
        "    out1 = apply_conv(image, filter1, padding=0, stride=1)\n",
        "    out2 = apply_conv(image, filter2, padding=0, stride=1)\n",
        "\n",
        "    # Display the results (you may need to convert the output to uint8)\n",
        "    cv2.imshow(\"Filtered Image 1\", out1.astype(np.uint8))\n",
        "    cv2.imshow(\"Filtered Image 2\", out2.astype(np.uint8))\n",
        "    cv2.waitKey(0)\n",
        "    cv2.destroyAllWindows()\n",
        "\n",
        "except Exception as e:\n",
        "    print(\"An error occurred:\", e)\n"
      ],
      "metadata": {
        "id": "1HPV6fFZloyc",
        "outputId": "484d885e-e2e3-4d68-afcc-dae2134e4cf8",
        "colab": {
          "base_uri": "https://localhost:8080/"
        }
      },
      "execution_count": null,
      "outputs": [
        {
          "output_type": "stream",
          "name": "stdout",
          "text": [
            "An error occurred: Failed to read the image file\n"
          ]
        }
      ]
    },
    {
      "cell_type": "code",
      "source": [
        "import cv2\n",
        "import matplotlib.pyplot as plt\n",
        "\n",
        "# Load the image\n",
        "image = cv2.imread('/content/grid1 (1).jpg', cv2.IMREAD_GRAYSCALE)\n",
        "\n",
        "# Check if the image was loaded successfully\n",
        "if image is None:\n",
        "    print(\"Failed to load the image\")\n",
        "else:\n",
        "    # Convert the image to a float array\n",
        "    image = image.astype(float) / 255.0\n",
        "\n",
        "    # Define the filters and apply convolution\n",
        "    # (Assuming `out1` and `out2` are already computed)\n",
        "\n",
        "    # Display the images\n",
        "    fig = plt.figure(figsize=(10,6))\n",
        "    ax = fig.add_subplot(1,3,1)\n",
        "    ax.imshow(image, cmap='gray')\n",
        "    ax.set_title('Original Image')\n",
        "    ax = fig.add_subplot(1,3,2)\n",
        "    ax.imshow(out1, cmap='gray')\n",
        "    ax.set_title('Horizontal edge')\n",
        "    ax = fig.add_subplot(1,3,3)\n",
        "    ax.imshow(out2, cmap='gray')\n",
        "    ax.set_title('Vertical edge')\n",
        "    plt.show()\n",
        "\n",
        "\n"
      ],
      "metadata": {
        "id": "xgwXwbUKnmEr",
        "colab": {
          "base_uri": "https://localhost:8080/"
        },
        "outputId": "c02d9d55-289c-41b7-85bc-5dff604477fa"
      },
      "execution_count": null,
      "outputs": [
        {
          "output_type": "stream",
          "name": "stdout",
          "text": [
            "Failed to load the image\n"
          ]
        }
      ]
    },
    {
      "cell_type": "markdown",
      "source": [
        "## Pooling Layers\n",
        "\n",
        "Pooling layers are used to reduce the dimensions of the feature maps. Thus, it reduces the number of parameters to learn and the amount of computation performed in the network. The pooling layer summarises the features present in a region of the feature map generated by a convolution layer.\n",
        "\n",
        "1) Max Pooling:\n",
        "\n",
        "<img src='https://media.geeksforgeeks.org/wp-content/uploads/20190721025744/Screenshot-2019-07-21-at-2.57.13-AM.png' height=150px/>\n",
        "\n",
        "2) Average Pooling:\n",
        "\n",
        "<img src='https://media.geeksforgeeks.org/wp-content/uploads/20190721030705/Screenshot-2019-07-21-at-3.05.56-AM.png' height=150px/>"
      ],
      "metadata": {
        "id": "FpA0yEk1BgRb"
      }
    },
    {
      "cell_type": "markdown",
      "source": [
        "## Softmax layer/activation\n",
        "Recall that logistic regression produces a decimal between 0 and 1.0. For example, a logistic regression output of 0.8 from an email classifier suggests an 80% chance of an email being spam and a 20% chance of it being not spam. Clearly, the sum of the probabilities of an email being either spam or not spam is 1.0.\n",
        "\n",
        "Softmax extends this idea into a multi-class world. That is, Softmax assigns decimal probabilities to each class in a multi-class problem. Those decimal probabilities must add up to 1.0. This additional constraint helps training converge more quickly than it otherwise would.\n",
        "Softmax is implemented through a neural network layer just before the output layer. The Softmax layer must have the same number of nodes as the output layer.\n",
        "\n",
        "<img src='https://miro.medium.com/max/1400/1*ReYpdIZ3ZSAPb2W8cJpkBg.jpeg' height=170px />"
      ],
      "metadata": {
        "id": "eu3QIU7AEO_x"
      }
    },
    {
      "cell_type": "markdown",
      "source": [
        "## Learning to train a CNN network"
      ],
      "metadata": {
        "id": "P6grxC0TKKSF"
      }
    },
    {
      "cell_type": "code",
      "source": [
        "# Import packages\n",
        "import torch\n",
        "import torchvision\n",
        "import torchvision.transforms as transforms\n",
        "import torch.nn as nn\n",
        "import torch.nn.functional as F\n",
        "import torch.optim as optim\n",
        "import matplotlib.pyplot as plt\n",
        "import numpy as np"
      ],
      "metadata": {
        "id": "qlO-uZUHnn_-"
      },
      "execution_count": null,
      "outputs": []
    },
    {
      "cell_type": "code",
      "source": [
        "#  Images returned from torchvision dataset classes is in range [0,1]\n",
        "# We transform them to tensors and normalize them to range [-1,1] using 'Normalize' transform\n",
        "\n",
        "transform = transforms.Compose(\n",
        "    [transforms.ToTensor(),\n",
        "     transforms.Normalize((0.5, 0.5, 0.5), (0.5, 0.5, 0.5))])\n",
        "\n",
        "batch_size = 128\n",
        "\n",
        "trainset = torchvision.datasets.CIFAR10(root='./data', train=True,\n",
        "                                        download=True, transform=transform)\n",
        "trainloader = torch.utils.data.DataLoader(trainset, batch_size=batch_size,\n",
        "                                          shuffle=True, num_workers=2)\n",
        "\n",
        "testset = torchvision.datasets.CIFAR10(root='./data', train=False,\n",
        "                                       download=True, transform=transform)\n",
        "testloader = torch.utils.data.DataLoader(testset, batch_size=batch_size,\n",
        "                                         shuffle=False, num_workers=2)\n",
        "\n",
        "# Classes in CIFAR10\n",
        "classes = ('plane', 'car', 'bird', 'cat',\n",
        "           'deer', 'dog', 'frog', 'horse', 'ship', 'truck')"
      ],
      "metadata": {
        "id": "NnezCUbwGqzd",
        "colab": {
          "base_uri": "https://localhost:8080/"
        },
        "outputId": "12244763-e838-41cd-f3ad-c696ad53cbe4"
      },
      "execution_count": null,
      "outputs": [
        {
          "output_type": "stream",
          "name": "stdout",
          "text": [
            "Downloading https://www.cs.toronto.edu/~kriz/cifar-10-python.tar.gz to ./data/cifar-10-python.tar.gz\n"
          ]
        },
        {
          "output_type": "stream",
          "name": "stderr",
          "text": [
            "100%|██████████| 170498071/170498071 [00:22<00:00, 7443583.56it/s]\n"
          ]
        },
        {
          "output_type": "stream",
          "name": "stdout",
          "text": [
            "Extracting ./data/cifar-10-python.tar.gz to ./data\n",
            "Files already downloaded and verified\n"
          ]
        }
      ]
    },
    {
      "cell_type": "code",
      "source": [
        "print('Training data shape : ', trainset.data.shape, len(trainset.targets))\n",
        "print('Testing data shape : ', testset.data.shape, len(testset.targets))\n",
        "\n",
        "# Find the unique numbers from the train labels\n",
        "nClasses = len(classes)\n",
        "print('Total number of outputs : ', nClasses)\n",
        "print('Output classes : ', classes)"
      ],
      "metadata": {
        "id": "e2M57DhHGupn",
        "colab": {
          "base_uri": "https://localhost:8080/"
        },
        "outputId": "c0a95ba6-7ecc-4615-db76-b70368102898"
      },
      "execution_count": null,
      "outputs": [
        {
          "output_type": "stream",
          "name": "stdout",
          "text": [
            "Training data shape :  (50000, 32, 32, 3) 50000\n",
            "Testing data shape :  (10000, 32, 32, 3) 10000\n",
            "Total number of outputs :  10\n",
            "Output classes :  ('plane', 'car', 'bird', 'cat', 'deer', 'dog', 'frog', 'horse', 'ship', 'truck')\n"
          ]
        }
      ]
    },
    {
      "cell_type": "code",
      "source": [
        "def train(num_epochs, model, train_loader, loss_func, optimizer):\n",
        "\n",
        "  # Training mode\n",
        "  model.train()\n",
        "\n",
        "  train_losses = []\n",
        "  train_acc = []\n",
        "\n",
        "  # Train the model\n",
        "  for epoch in range(num_epochs):\n",
        "    running_loss = 0\n",
        "    running_acc = 0\n",
        "    for i, (images, labels) in enumerate(train_loader):\n",
        "\n",
        "      # clear gradients for this training step\n",
        "      optimizer.zero_grad()\n",
        "\n",
        "      # Forward pass\n",
        "      output = model(images)\n",
        "\n",
        "      # Calculate loss\n",
        "      loss = loss_func(output, labels)\n",
        "\n",
        "      # Backpropagation, compute gradients\n",
        "      loss.backward()\n",
        "\n",
        "      # Apply gradients\n",
        "      optimizer.step()\n",
        "\n",
        "      # Running loss\n",
        "      running_loss += loss.item()\n",
        "\n",
        "      # indices of max probabilities\n",
        "      _, preds = torch.max(output, dim=1)\n",
        "\n",
        "      # Calculate number of correct predictions\n",
        "      correct = (preds.float() == labels).sum()\n",
        "      running_acc += correct\n",
        "\n",
        "      # Average loss and acc values\n",
        "      epoch_loss = running_loss / len(train_loader.dataset)\n",
        "      epoch_acc = running_acc / len(train_loader.dataset)\n",
        "\n",
        "    train_losses.append(epoch_loss)\n",
        "    train_acc.append(epoch_acc)\n",
        "    print ('Epoch {}/{}, Loss: {:.4f}, Accuracy: {:.4f}'.format(epoch + 1, num_epochs, epoch_loss, epoch_acc*100))\n",
        "\n",
        "  return train_losses, train_acc"
      ],
      "metadata": {
        "id": "_haw697lHCZs"
      },
      "execution_count": null,
      "outputs": []
    },
    {
      "cell_type": "code",
      "source": [
        "def test_model(model, testloader):\n",
        "  correct = 0\n",
        "  total = 0\n",
        "  # Deactivate autograd engine (don't compute grads since we're not training)\n",
        "  with torch.no_grad():\n",
        "    for data in testloader:\n",
        "        images, labels = data\n",
        "        # Calculate outputs by running images through the network\n",
        "        outputs = model(images)\n",
        "        # The class with the highest value is what we choose as prediction\n",
        "        _, predicted = torch.max(outputs.data, 1)\n",
        "        total += labels.size(0)\n",
        "        correct += (predicted == labels).sum().item()\n",
        "\n",
        "  print('Accuracy of the network: %d %%' % (\n",
        "      100 * correct / total))"
      ],
      "metadata": {
        "id": "x1Wi6vW7IHcR"
      },
      "execution_count": null,
      "outputs": []
    },
    {
      "cell_type": "code",
      "source": [
        "# CNN with 2 CONV layers and 3 FC layers\n",
        "class Net(nn.Module):\n",
        "    def __init__(self):\n",
        "        super().__init__()\n",
        "        self.conv1 = nn.Conv2d(3, 16, 3)\n",
        "        self.pool = nn.MaxPool2d(2, 2)\n",
        "        self.conv2 = nn.Conv2d(16, 32, 5)\n",
        "        self.fc1 = nn.Linear(32 * 5 * 5, 512)\n",
        "        self.fc2 = nn.Linear(512, 128)\n",
        "        # output layer 10 classes\n",
        "        self.fc3 = nn.Linear(128, 10)\n",
        "\n",
        "    def forward(self, x):\n",
        "        x = self.pool(F.relu(self.conv1(x)))\n",
        "        x = self.pool(F.relu(self.conv2(x)))\n",
        "        # flatten all dimensions except batch\n",
        "        x = torch.flatten(x, 1)\n",
        "        x = F.relu(self.fc1(x))\n",
        "        x = F.relu(self.fc2(x))\n",
        "        x = self.fc3(x)\n",
        "        return x"
      ],
      "metadata": {
        "id": "RgxbRadcHIms"
      },
      "execution_count": null,
      "outputs": []
    },
    {
      "cell_type": "code",
      "source": [
        "model = Net()\n",
        "print(model)"
      ],
      "metadata": {
        "id": "02meBxVOHLNL",
        "colab": {
          "base_uri": "https://localhost:8080/"
        },
        "outputId": "0828ace8-94cf-4d20-cf05-171775d269bb"
      },
      "execution_count": null,
      "outputs": [
        {
          "output_type": "stream",
          "name": "stdout",
          "text": [
            "Net(\n",
            "  (conv1): Conv2d(3, 16, kernel_size=(3, 3), stride=(1, 1))\n",
            "  (pool): MaxPool2d(kernel_size=2, stride=2, padding=0, dilation=1, ceil_mode=False)\n",
            "  (conv2): Conv2d(16, 32, kernel_size=(5, 5), stride=(1, 1))\n",
            "  (fc1): Linear(in_features=800, out_features=512, bias=True)\n",
            "  (fc2): Linear(in_features=512, out_features=128, bias=True)\n",
            "  (fc3): Linear(in_features=128, out_features=10, bias=True)\n",
            ")\n"
          ]
        }
      ]
    },
    {
      "cell_type": "code",
      "source": [
        "# Cross Entropy loss for multi-class classification\n",
        "criterion = nn.CrossEntropyLoss()"
      ],
      "metadata": {
        "id": "lfKHypeYHNHO"
      },
      "execution_count": null,
      "outputs": []
    },
    {
      "cell_type": "code",
      "source": [
        "# SGD optimizer with momentum\n",
        "optimizer = optim.SGD(model.parameters(), lr=0.05, momentum=0.9)"
      ],
      "metadata": {
        "id": "MuDnJL28HPKP"
      },
      "execution_count": null,
      "outputs": []
    },
    {
      "cell_type": "code",
      "source": [
        "num_epochs = 5  # iterations\n",
        "train_losses, train_acc = train(num_epochs, model, trainloader, criterion, optimizer)"
      ],
      "metadata": {
        "id": "AgKhwMrtHRCn",
        "colab": {
          "base_uri": "https://localhost:8080/"
        },
        "outputId": "9a79db40-67f1-41f0-8bff-cb086a65a46b"
      },
      "execution_count": null,
      "outputs": [
        {
          "output_type": "stream",
          "name": "stderr",
          "text": [
            "/usr/lib/python3.10/multiprocessing/popen_fork.py:66: RuntimeWarning: os.fork() was called. os.fork() is incompatible with multithreaded code, and JAX is multithreaded, so this will likely lead to a deadlock.\n",
            "  self.pid = os.fork()\n"
          ]
        },
        {
          "output_type": "stream",
          "name": "stdout",
          "text": [
            "Epoch 1/5, Loss: 0.0129, Accuracy: 39.6200\n",
            "Epoch 2/5, Loss: 0.0092, Accuracy: 57.9280\n",
            "Epoch 3/5, Loss: 0.0077, Accuracy: 65.0060\n",
            "Epoch 4/5, Loss: 0.0066, Accuracy: 70.2880\n",
            "Epoch 5/5, Loss: 0.0057, Accuracy: 74.4080\n"
          ]
        }
      ]
    },
    {
      "cell_type": "code",
      "source": [
        "fig = plt.figure(figsize=(10,4))\n",
        "ax = fig.add_subplot(1,2, 1)\n",
        "ax.plot(np.arange(1,len(train_losses)+1),train_losses)\n",
        "plt.xlabel('Training loss')\n",
        "plt.ylabel('Epochs')\n",
        "ax.set_title('Loss vs Epochs')\n",
        "ax = fig.add_subplot(1,2, 2)\n",
        "ax.plot(np.arange(1,len(train_acc)+1),train_acc)\n",
        "plt.xlabel('Training accuracy')\n",
        "plt.ylabel('Epochs')\n",
        "ax.set_title('Accuracy vs Epochs')\n",
        "plt.show()"
      ],
      "metadata": {
        "id": "tM2wHKGuHToB",
        "colab": {
          "base_uri": "https://localhost:8080/",
          "height": 311
        },
        "outputId": "a0a9c82a-4953-489c-f76d-e80519020fcf"
      },
      "execution_count": null,
      "outputs": [
        {
          "output_type": "display_data",
          "data": {
            "text/plain": [
              "<Figure size 1000x400 with 2 Axes>"
            ],
            "image/png": "[encoded data removed]"
          },
          "metadata": {}
        }
      ]
    },
    {
      "cell_type": "code",
      "source": [
        "# Accuracy on test data after training\n",
        "test_model(model, testloader)"
      ],
      "metadata": {
        "id": "3sHK9hhmI-VY",
        "colab": {
          "base_uri": "https://localhost:8080/"
        },
        "outputId": "98b9c6ca-68a6-4d6d-e2c0-ebe22f55243b"
      },
      "execution_count": null,
      "outputs": [
        {
          "output_type": "stream",
          "name": "stdout",
          "text": [
            "Accuracy of the network: 68 %\n"
          ]
        }
      ]
    },
    {
      "cell_type": "markdown",
      "source": [
        "## Questions\n",
        "1) List some reasons why we should prefer CNN over ANN for image classification?\n",
        "\n",
        "2) Try improving the CNN performance further by tuning the hyperparameters(epochs, optimizer, LR etc). Report the improved test accuracy.\n",
        "\n",
        "3) What happens if you reduce the number of convolution layers to only 1?\n",
        "\n",
        "4) Why didn't we use the Softmax activation in the last layer of CNN?\n"
      ],
      "metadata": {
        "id": "RBQeCEB6REnH"
      }
    },
    {
      "cell_type": "markdown",
      "source": [
        "#*1st question answer*\n",
        "\n",
        "Here's why CNNs are generally better than ANNs for image classification tasks:\n",
        "\n",
        "* **Spatial awareness:** CNNs are designed to understand the spatial relationships between pixels in an image. They can automatically detect edges, textures, and other features that are crucial for recognizing objects. ANNs, on the other hand, treat each pixel independently, making them less effective for tasks that require understanding the bigger picture.\n",
        "\n",
        "* **Efficiency:**  Unfolding an image into a single vector for an ANN leads to a massive number of trainable parameters, especially for high-resolution images. This can be computationally expensive and time-consuming to train. CNNs use filters and shared weights, significantly reducing the number of parameters needed and making the training process more efficient.\n",
        "\n",
        "* **Feature extraction:** A CNN can automatically learn the important features from the data during training. This eliminates the need for manual feature engineering, which can be a complex and time-consuming process for ANNs.\n",
        "\n",
        "* **Scalability:** CNNs excel at handling large datasets of images, making them ideal for real-world applications where vast amounts of training data are available. ANNs, on the other hand, can struggle with large datasets due to the computational cost of training with so many parameters.\n",
        "\n",
        "In summary, CNNs are specifically designed to work with image data, taking advantage of the spatial relationships between pixels. This allows them to achieve higher accuracy and efficiency compared to ANNs in image classification tasks.\n",
        "\n",
        "#*2ND QUESTION ANSWER*\n",
        "\n",
        "Unfortunately, I can't directly access and modify CNN models to run experiments. However, I can guide you through the process of tuning hyperparameters to potentially improve test accuracy on your CNN for image classification.\n",
        "\n",
        "Here's a roadmap:\n",
        "\n",
        "1. **Identify Baseline Performance:**  Run your current CNN model and record the test accuracy. This will be your baseline for comparison.\n",
        "\n",
        "2. **Hyperparameter Tuning Strategy:** There are various approaches to hyperparameter tuning. Here are two common methods:\n",
        "\n",
        "    * **Grid Search:** This method involves systematically trying out different combinations of hyperparameter values within a defined range. It can be exhaustive but ensures you explore a wide range of possibilities.\n",
        "    * **Random Search:** This method randomly samples hyperparameter values from a defined range. It can be more efficient for large search spaces and may avoid getting stuck in local optima.\n",
        "\n",
        "3. **Key Hyperparameters to Focus on:** Here are some critical hyperparameters to consider tuning:\n",
        "\n",
        "    * **Learning Rate (LR):** This controls how much the model weights are updated during training. A very high LR can cause the model to diverge, while a very low LR can lead to slow learning.\n",
        "    * **Epochs:** This refers to the number of times the entire training dataset is passed through the network. Too few epochs might lead to underfitting, while too many can lead to overfitting.\n",
        "    * **Optimizer:**  This algorithm dictates how the model updates its weights based on the learning rate and the loss function. Popular optimizers for CNNs include Adam, RMSprop, and SGD with momentum.\n",
        "\n",
        "4. **Evaluation and Monitoring:**  For each hyperparameter combination, train the model and record the test accuracy. Track the training and validation loss during training to monitor for overfitting.\n",
        "\n",
        "5. **Improved Test Accuracy:**  Once you've explored different hyperparameter combinations, identify the one that results in the highest test accuracy. This will be your improved performance compared to the baseline.\n",
        "\n",
        "**Additional Tips:**\n",
        "\n",
        "* **Data Augmentation:**  Artificially expanding your dataset through techniques like flipping, cropping, and adding noise can help improve model generalization and potentially lead to better performance.\n",
        "* **Early Stopping:** Implement early stopping to prevent overfitting. This technique monitors the validation loss and stops training if it starts to increase after a certain number of epochs.\n",
        "\n",
        "By following these steps and experimenting with different hyperparameter combinations, you can potentially improve the test accuracy of your CNN for image classification. Remember, the optimal hyperparameters will depend on your specific dataset and model architecture.\n",
        "\n",
        "\n",
        "#*3RD QUESTION ANSWER*\n",
        "\n",
        "Reducing the number of convolution layers to just one in a CNN for image classification will likely have several consequences, both positive and negative:\n",
        "\n",
        "**Negative Impacts:**\n",
        "\n",
        "* **Reduced Feature Extraction Capability:** Convolution layers are the workhorses of CNNs for image classification. They extract features from the image at different scales and orientations. With only one layer, the model's ability to learn complex and nuanced features will be significantly limited. This can lead to:\n",
        "    * **Lower Accuracy:** The model might struggle to accurately classify images, especially for complex datasets.\n",
        "    * **Poor Generalization:** The model might not generalize well to unseen data, performing poorly on images with variations not encountered during training.\n",
        "\n",
        "* **Loss of Spatial Information:**  Multiple convolution layers with varying filter sizes help capture spatial information from the image at different levels of detail. A single layer might not be able to effectively capture these spatial relationships, leading to a less robust understanding of the image content.\n",
        "\n",
        "**Positive Impacts:**\n",
        "\n",
        "* **Reduced Model Complexity:** Having just one convolution layer significantly reduces the number of trainable parameters in the model. This can be beneficial for:\n",
        "    * **Faster Training:** Less parameters translate to faster training times, especially on resource-constrained environments.\n",
        "    * **Lower Memory Footprint:** Smaller models require less memory to store and run, making them suitable for deployment on devices with limited memory.\n",
        "\n",
        "* **Potential for Efficiency Gains:** In some specific scenarios, a simple CNN with one convolution layer might achieve surprisingly good accuracy, especially for tasks with less complex image data. This can be an advantage for real-time applications where speed and efficiency are crucial.\n",
        "\n",
        "**Overall:**\n",
        "\n",
        "Reducing the number of convolution layers to one is a significant simplification of a CNN architecture. While it offers benefits in terms of model size and training speed, it comes at the cost of reduced feature extraction capability and potentially lower accuracy. This approach might be suitable for very specific use cases with limited computational resources and well-defined, simple image data. However, for most image classification tasks, using a CNN with multiple convolution layers will provide superior performance and generalization.\n",
        "\n",
        "\n",
        "#*4TH QUESTION ANSWER*\n",
        "\n",
        "You're right, Softmax is actually commonly used in the last layer of a CNN for image classification tasks! It plays a vital role in the output predictions. Here's why:\n",
        "\n",
        "**Softmax Activation in CNN Output Layer:**\n",
        "\n",
        "* **Probability Distribution:** Softmax takes the output values from the last convolution layer (often passed through a fully connected layer) and transforms them into a probability distribution across all possible classes. Each element in the output vector represents the probability of the input image belonging to a specific class.\n",
        "\n",
        "* **Class Scores vs. Probabilities:**  Without Softmax, the final layer's outputs might simply be a set of scores, indicating which class has the highest value. Softmax converts these scores into actual probabilities between 0 and 1, where the sum of all probabilities for all classes equals 1.\n",
        "\n",
        "* **Decision Making:**  By having probabilities, the model can make a more informed decision about the image classification. For instance, if the highest probability is 0.8 for \"cat\" and all other classes are below 0.1, the model is confident in predicting \"cat.\"\n",
        "\n",
        "**Alternatives (Less Common):**\n",
        "\n",
        "In some rare cases, depending on the specific task, alternatives to Softmax might be used in the last layer:\n",
        "\n",
        "* **Sigmoid:** This can be used for binary classification (two class problems) where the output represents the probability of belonging to one class (e.g., cat vs not-cat). However, Sigmoid suffers from vanishing gradients in deeper networks, making it less favorable for multi-class problems.\n",
        "* **Linear Activation:** This might be used for regression tasks where the output is a continuous value rather than a class label.\n",
        "\n",
        "**In conclusion, Softmax is the preferred activation function in the last layer of a CNN for image classification because it provides a probabilistic interpretation of the model's output, enabling more informed decision making.**\n"
      ],
      "metadata": {
        "id": "9cd1T3oY0xH-"
      }
    }
  ]
}